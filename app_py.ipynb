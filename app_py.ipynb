{
  "nbformat": 4,
  "nbformat_minor": 0,
  "metadata": {
    "colab": {
      "provenance": [],
      "authorship_tag": "ABX9TyOmHbdu17dV9oLpuOaSj7vQ",
      "include_colab_link": true
    },
    "kernelspec": {
      "name": "python3",
      "display_name": "Python 3"
    },
    "language_info": {
      "name": "python"
    }
  },
  "cells": [
    {
      "cell_type": "markdown",
      "metadata": {
        "id": "view-in-github",
        "colab_type": "text"
      },
      "source": [
        "<a href=\"https://colab.research.google.com/github/FATIMA7717/GRAPHICALCALCULATOR/blob/main/app_py.ipynb\" target=\"_parent\"><img src=\"https://colab.research.google.com/assets/colab-badge.svg\" alt=\"Open In Colab\"/></a>"
      ]
    },
    {
      "cell_type": "code",
      "execution_count": null,
      "metadata": {
        "id": "KgDq_LWgt8EB"
      },
      "outputs": [],
      "source": [
        "# Step 1: Install required libraries\n",
        "# Run this command in the terminal to install Streamlit and Matplotlib if they are not already installed.\n",
        "# !pip install streamlit matplotlib numpy\n",
        "\n",
        "# Step 2: Import necessary libraries\n",
        "pip install matplotlib numpy\n",
        "streamlit run app.py\n",
        "import streamlit as st\n",
        "import numpy as np\n",
        "import matplotlib.pyplot as plt\n",
        "\n",
        "# Step 3: Create input boxes for two values and output area\n",
        "st.title(\"Graphical Calculator\")\n",
        "\n",
        "# Basic Arithmetic Operations\n",
        "st.subheader(\"Basic Arithmetic Operations\")\n",
        "num1 = st.number_input(\"Enter number 1:\", value=0.0)\n",
        "num2 = st.number_input(\"Enter number 2:\", value=0.0)\n",
        "\n",
        "if st.button(\"Add\"):\n",
        "    result = num1 + num2\n",
        "    st.write(\"Addition Result:\", result)\n",
        "\n",
        "if st.button(\"Subtract\"):\n",
        "    result = num1 - num2\n",
        "    st.write(\"Subtraction Result:\", result)\n",
        "\n",
        "if st.button(\"Multiply\"):\n",
        "    result = num1 * num2\n",
        "    st.write(\"Multiplication Result:\", result)\n",
        "\n",
        "if st.button(\"Divide\"):\n",
        "    if num2 != 0:\n",
        "        result = num1 / num2\n",
        "        st.write(\"Division Result:\", result)\n",
        "    else:\n",
        "        st.write(\"Error: Division by zero\")\n",
        "\n",
        "# Trigonometric Functions\n",
        "st.subheader(\"Trigonometric Functions\")\n",
        "single_value = st.number_input(\"Enter a single number for trigonometric functions:\", value=0.0)\n",
        "\n",
        "if st.button(\"Sine\"):\n",
        "    result = np.sin(single_value)\n",
        "    st.write(f\"sin({single_value}) =\", result)\n",
        "\n",
        "if st.button(\"Cosine\"):\n",
        "    result = np.cos(single_value)\n",
        "    st.write(f\"cos({single_value}) =\", result)\n",
        "\n",
        "if st.button(\"Tangent\"):\n",
        "    result = np.tan(single_value)\n",
        "    st.write(f\"tan({single_value}) =\", result)\n",
        "\n",
        "# Graph Plotting\n",
        "st.subheader(\"Custom Plot of X vs Y\")\n",
        "x_values_input = st.text_input(\"Enter x values (comma-separated):\")\n",
        "y_values_input = st.text_input(\"Enter y values (comma-separated):\")\n",
        "\n",
        "if st.button(\"Plot Custom Graph\"):\n",
        "    try:\n",
        "        x_values = list(map(float, x_values_input.split(',')))\n",
        "        y_values = list(map(float, y_values_input.split(',')))\n",
        "\n",
        "        if len(x_values) != len(y_values):\n",
        "            st.write(\"Error: x and y values must have the same number of elements.\")\n",
        "        else:\n",
        "            plt.figure(figsize=(8, 5))\n",
        "            plt.plot(x_values, y_values, marker='o', linestyle='-', color='b')\n",
        "            plt.xlabel('X values')\n",
        "            plt.ylabel('Y values')\n",
        "            plt.title('Custom Plot of X vs Y')\n",
        "            plt.grid(True)\n",
        "            st.pyplot(plt)\n",
        "    except ValueError:\n",
        "        st.write(\"Error: Please enter valid numeric values separated by commas.\")\n"
      ]
    }
  ]
}